{
  "nbformat": 4,
  "nbformat_minor": 0,
  "metadata": {
    "colab": {
      "provenance": [],
      "include_colab_link": true
    },
    "kernelspec": {
      "name": "python3",
      "display_name": "Python 3"
    },
    "language_info": {
      "name": "python"
    }
  },
  "cells": [
    {
      "cell_type": "markdown",
      "metadata": {
        "id": "view-in-github",
        "colab_type": "text"
      },
      "source": [
        "<a href=\"https://colab.research.google.com/github/23beraid/2023ENGR111ES6/blob/main/Project_Detailed.ipynb\" target=\"_parent\"><img src=\"https://colab.research.google.com/assets/colab-badge.svg\" alt=\"Open In Colab\"/></a>"
      ]
    },
    {
      "cell_type": "markdown",
      "source": [],
      "metadata": {
        "id": "HCWs02E-dVPl"
      }
    },
    {
      "cell_type": "markdown",
      "source": [
        "Importing pandas into the session"
      ],
      "metadata": {
        "id": "U5n5fMwmdY0V"
      }
    },
    {
      "cell_type": "code",
      "source": [
        "from google.colab import files"
      ],
      "metadata": {
        "id": "HXdPJJOfe9q2"
      },
      "execution_count": null,
      "outputs": []
    },
    {
      "cell_type": "markdown",
      "source": [
        "Import Pandas"
      ],
      "metadata": {
        "id": "cE-BZWDEMkR7"
      }
    },
    {
      "cell_type": "code",
      "execution_count": null,
      "metadata": {
        "id": "zDNo7ntvdA7n"
      },
      "outputs": [],
      "source": [
        "import pandas as pd"
      ]
    },
    {
      "cell_type": "markdown",
      "source": [
        "Importing Numpy to make it easier to manipulate the data"
      ],
      "metadata": {
        "id": "haLliuZbjVzM"
      }
    },
    {
      "cell_type": "code",
      "source": [
        "import numpy as np"
      ],
      "metadata": {
        "id": "fvwCN467jPWc"
      },
      "execution_count": null,
      "outputs": []
    },
    {
      "cell_type": "markdown",
      "source": [
        "Next we import matplotlib.pyplot to visualize the data by making some plots"
      ],
      "metadata": {
        "id": "0iVJeyH8iHMx"
      }
    },
    {
      "cell_type": "code",
      "source": [
        "import matplotlib.pyplot as plt"
      ],
      "metadata": {
        "id": "FQWLr8zUhraa"
      },
      "execution_count": null,
      "outputs": []
    },
    {
      "cell_type": "markdown",
      "source": [
        "Import statsmodels for regression"
      ],
      "metadata": {
        "id": "kF3smvzb4R1c"
      }
    },
    {
      "cell_type": "code",
      "source": [
        "import statsmodels.formula.api as sm"
      ],
      "metadata": {
        "id": "Lt0TU_LM4G8I"
      },
      "execution_count": null,
      "outputs": []
    },
    {
      "cell_type": "markdown",
      "source": [
        "Read the data into the session"
      ],
      "metadata": {
        "id": "D3iJMhIaddZt"
      }
    },
    {
      "cell_type": "code",
      "source": [
        "NYHousing = files.upload()"
      ],
      "metadata": {
        "id": "RQYSfPjLdgE5"
      },
      "execution_count": null,
      "outputs": []
    },
    {
      "cell_type": "markdown",
      "source": [
        "Now read it as an excel file. Otherwise, operations do not work."
      ],
      "metadata": {
        "id": "Be3CLf1L2g6O"
      }
    },
    {
      "cell_type": "code",
      "source": [
        "NYHousing = pd.read_excel('NY Housing Data.xlsx')"
      ],
      "metadata": {
        "id": "4ZR_MJiZfZkt"
      },
      "execution_count": null,
      "outputs": []
    },
    {
      "cell_type": "markdown",
      "source": [
        "If you check the type of our file, it will be a dataframe. This makes applying the pandas commands easier."
      ],
      "metadata": {
        "id": "y_YRGmdn2rDF"
      }
    },
    {
      "cell_type": "code",
      "source": [
        "type(NYHousing)"
      ],
      "metadata": {
        "id": "K3oSjGP-_aax"
      },
      "execution_count": null,
      "outputs": []
    },
    {
      "cell_type": "markdown",
      "source": [
        "The .head() command allows you to view the 1st 5 rows of your file"
      ],
      "metadata": {
        "id": "B-YNoK3T3IAN"
      }
    },
    {
      "cell_type": "code",
      "source": [
        "NYHousing.head()"
      ],
      "metadata": {
        "id": "bBYVQ80G_efs"
      },
      "execution_count": null,
      "outputs": []
    },
    {
      "cell_type": "markdown",
      "source": [
        "The .info() shows outpts names of rows, columns, counts and data types"
      ],
      "metadata": {
        "id": "qMlK_c54BP7z"
      }
    },
    {
      "cell_type": "code",
      "source": [
        "NYHousing.info()"
      ],
      "metadata": {
        "id": "FJvR9vKxBfz-"
      },
      "execution_count": null,
      "outputs": []
    },
    {
      "cell_type": "markdown",
      "source": [
        "The .shape command gives you the number of rows and columns of your dataset"
      ],
      "metadata": {
        "id": "rM9wD97d3Q38"
      }
    },
    {
      "cell_type": "code",
      "source": [
        "NYHousing.shape"
      ],
      "metadata": {
        "id": "WyTA4bnE_zly"
      },
      "execution_count": null,
      "outputs": []
    },
    {
      "cell_type": "markdown",
      "source": [
        "The .columns command gives you the names of all the columns"
      ],
      "metadata": {
        "id": "HuRcD_ST3YRm"
      }
    },
    {
      "cell_type": "code",
      "source": [
        "NYHousing.columns"
      ],
      "metadata": {
        "id": "EIzw33kSADR5"
      },
      "execution_count": null,
      "outputs": []
    },
    {
      "cell_type": "markdown",
      "source": [
        "You can create a new series with a single column of your dataset by calling it within a square bracket. The following also assigns the selection to a variable. We can do similarly for all other selections (subsets) of the main dataset"
      ],
      "metadata": {
        "id": "MwByP7cs4GpF"
      }
    },
    {
      "cell_type": "code",
      "source": [
        "price = NYHousing['Price']"
      ],
      "metadata": {
        "id": "8h3GwYHi3v8p"
      },
      "execution_count": null,
      "outputs": []
    },
    {
      "cell_type": "markdown",
      "source": [
        "The .head() command, as usual, gives the 1st 5 rows and in this instance, the name of the series and data type"
      ],
      "metadata": {
        "id": "66zz82HV4NrU"
      }
    },
    {
      "cell_type": "code",
      "source": [
        "price.head()"
      ],
      "metadata": {
        "id": "jYruFjAu4ALL"
      },
      "execution_count": null,
      "outputs": []
    },
    {
      "cell_type": "markdown",
      "source": [
        ".values gives the values in the dataframe"
      ],
      "metadata": {
        "id": "04zEz7iJCYyH"
      }
    },
    {
      "cell_type": "code",
      "source": [
        "NYHousing.values"
      ],
      "metadata": {
        "id": "CredXF8QB1d6"
      },
      "execution_count": null,
      "outputs": []
    },
    {
      "cell_type": "markdown",
      "source": [
        ".columns gives the column names"
      ],
      "metadata": {
        "id": "bFpiWqr1C042"
      }
    },
    {
      "cell_type": "code",
      "source": [
        "NYHousing.columns"
      ],
      "metadata": {
        "id": "-tjxJ6f4Cumz"
      },
      "execution_count": null,
      "outputs": []
    },
    {
      "cell_type": "markdown",
      "source": [
        ".index gives row numbers or names"
      ],
      "metadata": {
        "id": "5GTEXcMADiEg"
      }
    },
    {
      "cell_type": "code",
      "source": [
        "NYHousing.index"
      ],
      "metadata": {
        "id": "3NtqaEHFDaX-"
      },
      "execution_count": null,
      "outputs": []
    },
    {
      "cell_type": "markdown",
      "source": [
        ".sort_values() sorts the specified column in an ascending order"
      ],
      "metadata": {
        "id": "PvjTLL3KELQx"
      }
    },
    {
      "cell_type": "code",
      "source": [
        "NYHousing.sort_values(\"Price\")"
      ],
      "metadata": {
        "id": "Jh_9CClZDpfa"
      },
      "execution_count": null,
      "outputs": []
    },
    {
      "cell_type": "markdown",
      "source": [
        "The following sorts in descending order"
      ],
      "metadata": {
        "id": "MCCL3KgeExwt"
      }
    },
    {
      "cell_type": "code",
      "source": [
        "NYHousing.sort_values(\"Price\", ascending = False)"
      ],
      "metadata": {
        "id": "mRr3VzkPEk2K"
      },
      "execution_count": null,
      "outputs": []
    },
    {
      "cell_type": "markdown",
      "source": [
        "The following sorts two columns (specified) the first descending and second ascending. The ascending argument can be removed to have both columns in ascending order."
      ],
      "metadata": {
        "id": "lkR2VdOYG1_Z"
      }
    },
    {
      "cell_type": "code",
      "source": [
        "NYHousing.sort_values([\"Price\",\"Living_sqft\"], ascending = [False, True])"
      ],
      "metadata": {
        "id": "QRrL5kZAGbQp"
      },
      "execution_count": null,
      "outputs": []
    },
    {
      "cell_type": "markdown",
      "source": [
        "**Subsetting**"
      ],
      "metadata": {
        "id": "W6wSuTNwS3Mg"
      }
    },
    {
      "cell_type": "markdown",
      "source": [
        "The following shows the specified column"
      ],
      "metadata": {
        "id": "F5K1i6FKS5qY"
      }
    },
    {
      "cell_type": "code",
      "source": [
        "NYHousing[\"Price\"]"
      ],
      "metadata": {
        "id": "6ADXOaqxSo9k"
      },
      "execution_count": null,
      "outputs": []
    },
    {
      "cell_type": "markdown",
      "source": [
        "The following shows multiple specified columns"
      ],
      "metadata": {
        "id": "kXgS6pCcTdwv"
      }
    },
    {
      "cell_type": "code",
      "source": [
        "NYHousing[[\"Price\",\"Lot_sqft\"]]"
      ],
      "metadata": {
        "id": "PGnW39w1TAO1"
      },
      "execution_count": null,
      "outputs": []
    },
    {
      "cell_type": "markdown",
      "source": [
        "The following returns if a house price exceeds $1M"
      ],
      "metadata": {
        "id": "-2_S-TAVVLRn"
      }
    },
    {
      "cell_type": "code",
      "source": [
        "NYHousing[\"Price\"]>1000000"
      ],
      "metadata": {
        "id": "5r-TeaopU--w"
      },
      "execution_count": null,
      "outputs": []
    },
    {
      "cell_type": "markdown",
      "source": [
        "The following returns all data where a condition is true. Here, for example, details for all houses that exceed $1M. You can assign this as a different dataframe and work with it."
      ],
      "metadata": {
        "id": "j4FKXGbhVkkD"
      }
    },
    {
      "cell_type": "code",
      "source": [
        "NYHousing[NYHousing[\"Price\"]>1000000]"
      ],
      "metadata": {
        "id": "8jdWObYvVTX6"
      },
      "execution_count": null,
      "outputs": []
    },
    {
      "cell_type": "markdown",
      "source": [
        "The following returns all the houses where the number of bedrooms is 3"
      ],
      "metadata": {
        "id": "-1g7VWdNWjru"
      }
    },
    {
      "cell_type": "code",
      "source": [
        "NYHousing[NYHousing[\"N_bedrooms\"]==3]"
      ],
      "metadata": {
        "id": "NRZ1ibZYWVW4"
      },
      "execution_count": null,
      "outputs": []
    },
    {
      "cell_type": "markdown",
      "source": [
        "The syntax for multiple conditions is below. **Why is this not working?**"
      ],
      "metadata": {
        "id": "_j4jSu_7P_yO"
      }
    },
    {
      "cell_type": "code",
      "source": [
        "NYHousing[(NYHousing[\"N_bedrooms\"]==3) & (NYHousing[\"Price\"]>1000000)]"
      ],
      "metadata": {
        "id": "3sjvz586ImWz"
      },
      "execution_count": null,
      "outputs": []
    },
    {
      "cell_type": "markdown",
      "source": [
        "The following is one way of selecting multiple values in a column"
      ],
      "metadata": {
        "id": "Gcuigd5_T_3S"
      }
    },
    {
      "cell_type": "code",
      "source": [
        "NYHousing[NYHousing[\"N_bedrooms\"].isin([1,2])]"
      ],
      "metadata": {
        "id": "hCI70CJOSZxd"
      },
      "execution_count": null,
      "outputs": []
    },
    {
      "cell_type": "markdown",
      "source": [
        "We can create new columns as functions of existing columns like below"
      ],
      "metadata": {
        "id": "YeiF-vSQXp0L"
      }
    },
    {
      "cell_type": "code",
      "source": [
        "NYHousing[\"Empty_sqft\"] = NYHousing['Lot_sqft'] - NYHousing['Above_sqft']\n",
        "NYHousing.head()"
      ],
      "metadata": {
        "id": "Ikb-AyvwWbYd"
      },
      "execution_count": null,
      "outputs": []
    },
    {
      "cell_type": "markdown",
      "source": [
        "The following is the command to replace a number (or multiple numbers or entries) with NaNs (not a number). You can also variations of this to replace with some other number or entry."
      ],
      "metadata": {
        "id": "v-MteZXU60ee"
      }
    },
    {
      "cell_type": "code",
      "source": [
        "price.replace([0, 99999999999999], np.nan, inplace = True)"
      ],
      "metadata": {
        "id": "DrpvmODl6fQO"
      },
      "execution_count": null,
      "outputs": []
    },
    {
      "cell_type": "markdown",
      "source": [
        "Following are 2 ways get maximum of a specified column. You can use variations for other measures."
      ],
      "metadata": {
        "id": "5Wh2i_eMZBKR"
      }
    },
    {
      "cell_type": "code",
      "source": [
        "price.max()"
      ],
      "metadata": {
        "id": "jd3OUV_7nIEK"
      },
      "execution_count": null,
      "outputs": []
    },
    {
      "cell_type": "code",
      "source": [
        "NYHousing['Price'].max()"
      ],
      "metadata": {
        "id": "MAxRavr7Y1C1"
      },
      "execution_count": null,
      "outputs": []
    },
    {
      "cell_type": "markdown",
      "source": [
        "The .describe() command gives the summary statistics"
      ],
      "metadata": {
        "id": "1vtTmkZJ5jrD"
      }
    },
    {
      "cell_type": "code",
      "source": [
        "price.describe()"
      ],
      "metadata": {
        "id": "nW0BUm0-5Xjd"
      },
      "execution_count": null,
      "outputs": []
    },
    {
      "cell_type": "markdown",
      "source": [
        "Creates a function to return the 30th percentile"
      ],
      "metadata": {
        "id": "HVxVNNHWdPZ9"
      }
    },
    {
      "cell_type": "code",
      "source": [
        "def pct30(column): return column.quantile(0.3)"
      ],
      "metadata": {
        "id": "ELUdB1pjcv9f"
      },
      "execution_count": null,
      "outputs": []
    },
    {
      "cell_type": "markdown",
      "source": [
        "Now we can call the function on a single column or multiple columns"
      ],
      "metadata": {
        "id": "cGBlhfb5dU1e"
      }
    },
    {
      "cell_type": "code",
      "source": [
        "NYHousing[\"Price\"].agg(pct30)"
      ],
      "metadata": {
        "id": "dko-lZt_dBz-"
      },
      "execution_count": null,
      "outputs": []
    },
    {
      "cell_type": "code",
      "source": [
        "NYHousing[[\"Price\",\"Lot_sqft\"]].agg(pct30)"
      ],
      "metadata": {
        "id": "tlQX8KaCdbIn"
      },
      "execution_count": null,
      "outputs": []
    },
    {
      "cell_type": "markdown",
      "source": [
        "We can also call multiple functions for multiple columns"
      ],
      "metadata": {
        "id": "bulnjg6idxjd"
      }
    },
    {
      "cell_type": "code",
      "source": [
        "NYHousing[[\"Price\",\"Lot_sqft\"]].agg([pct30, max])"
      ],
      "metadata": {
        "id": "FA8KvBRFd2eN"
      },
      "execution_count": null,
      "outputs": []
    },
    {
      "cell_type": "markdown",
      "source": [
        "Histogram of the house prices. Dropped the zeroes and highest (which seems not valid). These were replaced NaNs earlier and are now dropped."
      ],
      "metadata": {
        "id": "BaB7f2rBzHLm"
      }
    },
    {
      "cell_type": "code",
      "source": [
        "\n",
        "\n",
        "plt.hist(price.dropna(),bins=10)\n",
        "plt.xlabel('House Price in $')\n",
        "plt.ylabel('Frequency')\n",
        "plt.show()"
      ],
      "metadata": {
        "id": "tK20_r1CiT4b"
      },
      "execution_count": null,
      "outputs": []
    },
    {
      "cell_type": "markdown",
      "source": [
        "Bar plot"
      ],
      "metadata": {
        "id": "GgjT1IGlUQyM"
      }
    },
    {
      "cell_type": "code",
      "source": [
        "# Count the number of houses for each number of views\n",
        "view_counts = NYHousing['View'].value_counts()\n",
        "# Sort the view_counts by index\n",
        "view_counts = view_counts.sort_index()\n",
        "# Create a bar plot\n",
        "plt.bar(view_counts.index, view_counts.values)\n",
        "# Set labels and title\n",
        "plt.xlabel('Number of Views')\n",
        "plt.ylabel('Number of Houses')\n",
        "plt.title('Number of Houses for Each Number of Views in NY Housing Dataset')\n",
        "# Show the plot\n",
        "plt.show()"
      ],
      "metadata": {
        "id": "HFCMt99YUTZG"
      },
      "execution_count": null,
      "outputs": []
    },
    {
      "cell_type": "markdown",
      "source": [
        "Pie Chart"
      ],
      "metadata": {
        "id": "kWREENSaUtu8"
      }
    },
    {
      "cell_type": "code",
      "source": [
        "# Count the number of houses for each number of views\n",
        "view_counts = NYHousing['View'].value_counts()\n",
        "# Sort the view_counts by index\n",
        "view_counts = view_counts.sort_index()\n",
        "# Calculate percentage values\n",
        "percentages = 100 * view_counts / view_counts.sum()\n",
        "# Create a pie chart without percentage values displayed on the chart\n",
        "labels = view_counts.index\n",
        "colors = plt.cm.viridis(np.linspace(0, 1, len(labels)))\n",
        "wedges, texts = plt.pie(view_counts, labels=labels, colors=colors, startangle=90)\n",
        "# Set title\n",
        "plt.title('Percentage of Houses for Each Number of Views in NY Housing Dataset')\n",
        "# Create a legend with percentage values\n",
        "legend_labels = [f'{label}: {percentage:.1f}%' for label, percentage in zip(labels, percentages)]\n",
        "plt.legend(wedges, legend_labels, title=\"Number of Views\", loc=\"center left\", bbox_to_anchor=(1, 0, 0.5, 1))\n",
        "# Equal aspect ratio ensures that pie is drawn as a circle\n",
        "plt.axis('equal')\n",
        "# Show the plot\n",
        "plt.show()"
      ],
      "metadata": {
        "id": "eFHqyxzYUvz6"
      },
      "execution_count": null,
      "outputs": []
    },
    {
      "cell_type": "markdown",
      "source": [
        "Scatterplot"
      ],
      "metadata": {
        "id": "R3dw88H0zZv5"
      }
    },
    {
      "cell_type": "code",
      "source": [
        "plt.plot(NYHousing.Living_sqft, NYHousing.Price,'o', markersize=2)\n",
        "plt.xlabel('Living Size in Square Feet')\n",
        "plt.ylabel(\"House Price in $\")\n",
        "plt.show()"
      ],
      "metadata": {
        "id": "T29KBTiwzoEV"
      },
      "execution_count": null,
      "outputs": []
    },
    {
      "cell_type": "markdown",
      "source": [
        "Simple Linear Regression Model"
      ],
      "metadata": {
        "id": "BJtpKMIM3gtA"
      }
    },
    {
      "cell_type": "code",
      "source": [
        "SLR=sm.ols(formula = 'NYHousing.Price ~ NYHousing.Living_sqft', data = NYHousing).fit()\n",
        "SLR.summary()"
      ],
      "metadata": {
        "id": "QVi_QoE73j9I"
      },
      "execution_count": null,
      "outputs": []
    },
    {
      "cell_type": "markdown",
      "source": [
        "Multilinear Regression Model"
      ],
      "metadata": {
        "id": "N3qHw5jtOHFO"
      }
    },
    {
      "cell_type": "code",
      "source": [
        "MLR=sm.ols(formula = 'NYHousing.Price ~ NYHousing.Living_sqft + NYHousing.N_bedrooms', data = NYHousing).fit()\n",
        "MLR.summary()"
      ],
      "metadata": {
        "id": "AW_SR6AgJ29d"
      },
      "execution_count": null,
      "outputs": []
    },
    {
      "cell_type": "markdown",
      "source": [
        "There are codes for individual statistics as well. For example, the following is for rsquared"
      ],
      "metadata": {
        "id": "g9zvPp25ONn0"
      }
    },
    {
      "cell_type": "code",
      "source": [
        "MLR.rsquared"
      ],
      "metadata": {
        "id": "5JOqBBWCMsNU"
      },
      "execution_count": null,
      "outputs": []
    },
    {
      "cell_type": "markdown",
      "source": [
        "Simple Linear Regression Model & ANOVA Table"
      ],
      "metadata": {
        "id": "mcLFUR30qVK-"
      }
    },
    {
      "cell_type": "code",
      "source": [
        "import statsmodels.api as sm\n",
        "import statsmodels.formula.api as smf\n",
        "from statsmodels.stats.anova import anova_lm"
      ],
      "metadata": {
        "id": "ADzDdupWqa1-"
      },
      "execution_count": null,
      "outputs": []
    },
    {
      "cell_type": "code",
      "source": [
        "SLR = smf.ols('NYHousing.Price ~ NYHousing.Living_sqft', data = NYHousing).fit()\n",
        "anova_table = anova_lm(SLR)\n",
        "print(anova_table)"
      ],
      "metadata": {
        "id": "jt0iO-M8qcJv"
      },
      "execution_count": null,
      "outputs": []
    },
    {
      "cell_type": "markdown",
      "source": [
        "Filtering Data"
      ],
      "metadata": {
        "id": "ccErSsduOT1n"
      }
    },
    {
      "cell_type": "code",
      "source": [
        "singlebed = NYHousing['N_bedrooms']<2"
      ],
      "metadata": {
        "id": "kgdkMI9YOjbJ"
      },
      "execution_count": null,
      "outputs": []
    },
    {
      "cell_type": "code",
      "source": [
        "singlebed.head(100)"
      ],
      "metadata": {
        "id": "GrhL5cOpOzmN"
      },
      "execution_count": null,
      "outputs": []
    },
    {
      "cell_type": "code",
      "source": [
        "NYHousing.head()"
      ],
      "metadata": {
        "id": "14Wkb360Pvku"
      },
      "execution_count": null,
      "outputs": []
    },
    {
      "cell_type": "code",
      "source": [
        "singlebed.sum()"
      ],
      "metadata": {
        "id": "iait4OarQtSZ"
      },
      "execution_count": null,
      "outputs": []
    },
    {
      "cell_type": "markdown",
      "source": [
        "Exporting Data to Excel File"
      ],
      "metadata": {
        "id": "t6F0VmERq4MV"
      }
    },
    {
      "cell_type": "code",
      "source": [
        "# The following code read the first five columns of the NYHousing dataframe and save it as a new file called 'NY Housing Data_subset.xlsx':\n",
        "# Select the first 5 columns\n",
        "NYHousing_subset = NYHousing.iloc[:, :5]\n",
        "\n",
        "# Save the subset to a new Excel file\n",
        "NYHousing_subset.to_excel('/content/NY Housing Data_subset.xlsx', index=False)"
      ],
      "metadata": {
        "id": "4GpRokv1qzbV"
      },
      "execution_count": null,
      "outputs": []
    }
  ]
}